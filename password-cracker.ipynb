{
 "cells": [
  {
   "cell_type": "markdown",
   "id": "d86a35c8-d27d-46be-825a-e5c5b699c04b",
   "metadata": {},
   "source": [
    "# Password Cracker\n",
    "\n",
    "## Overview\n",
    "This project allows users to hash passwords and check if they exist in a predefined database of commonly used passwords. The project includes functionalities to hash passwords with and without salt, as well as check hashed passwords against a known database.\n"
   ]
  },
  {
   "cell_type": "markdown",
   "id": "77eb7ac5-2e76-4b02-bcd3-d1b4424b8bec",
   "metadata": {},
   "source": [
    "### Importing Libraries and Loading Data\n",
    "\n",
    "In this section, we will import the necessary libraries and load the salts and passwords from text files. The `hashlib` library is used for hashing passwords, while the salts and common passwords are stored in separate text files. This data will be utilized for hashing and cracking passwords later in the program.\n"
   ]
  },
  {
   "cell_type": "code",
   "execution_count": 12,
   "id": "0014ada4-cb04-4687-b52c-7f556b503436",
   "metadata": {},
   "outputs": [],
   "source": [
    "import hashlib\n",
    "\n",
    "# Load salts and passwords from files\n",
    "salts = open(\"known-salts.txt\").read().split()\n",
    "passwords = open(\"top-10000-passwords.txt\").read().split()\n"
   ]
  },
  {
   "cell_type": "markdown",
   "id": "402f56ab-0c25-4a1a-9bd6-fb25bac19935",
   "metadata": {},
   "source": [
    "### Function to Crack SHA-1 Hashes\n",
    "\n",
    "In this section, we define the `crack_sha1_hash` function, which attempts to find the original password from a given SHA-1 hash. The function takes two parameters: the hash to crack and a boolean indicating whether to use salts in the cracking process. \n",
    "\n",
    "- If `use_salts` is `True`, the function will concatenate each password with known salts and check if the resulting hash matches the given hash.\n",
    "- If `use_salts` is `False`, it will simply hash each password in the list and compare it to the provided hash. \n",
    "\n",
    "If a match is found, the original password is returned; otherwise, it returns a message indicating that the password is not in the database.\n"
   ]
  },
  {
   "cell_type": "code",
   "execution_count": 13,
   "id": "ec28956f-7cd3-4a7c-aabb-3dc655d68e43",
   "metadata": {},
   "outputs": [],
   "source": [
    "def crack_sha1_hash(hash, use_salts=False):\n",
    "    password = ''\n",
    "    \n",
    "    if use_salts:\n",
    "        for ps in passwords:\n",
    "            for x in salts:\n",
    "                pass_salt = x + ps\n",
    "                if hashlib.sha1(pass_salt.encode()).hexdigest() == hash:\n",
    "                    password = ps\n",
    "            for x in salts:\n",
    "                pass_salt = ps + x\n",
    "                if hashlib.sha1(pass_salt.encode()).hexdigest() == hash:\n",
    "                    password = ps\n",
    "    else:\n",
    "        for ps in passwords:\n",
    "            if hashlib.sha1(ps.encode()).hexdigest() == hash:\n",
    "                password = ps\n",
    "\n",
    "    if password:\n",
    "        return password\n",
    "    else:\n",
    "        return \"PASSWORD NOT IN DATABASE\"\n"
   ]
  },
  {
   "cell_type": "markdown",
   "id": "92164a15-3ae5-49a3-8546-f1488f6d186d",
   "metadata": {},
   "source": [
    "### Function to Hash a Password\n",
    "\n",
    "In this section, we define the `hash_password` function, which takes a user-provided password and generates its SHA-1 hash. The function performs the following steps:\n",
    "\n",
    "1. **Hashing**: It converts the input password into a hashed format using the SHA-1 algorithm.\n",
    "2. **Checking Existing Passwords**: It checks if the provided password already exists in the `top-10000-passwords.txt` file.\n",
    "   - If the password exists, it informs the user and displays the hashed password.\n",
    "   - If the password does not exist, it appends the new password to the file and notifies the user of the newly hashed password.\n",
    "\n",
    "This function ensures that users can safely create new passwords and track their hashed values.\n"
   ]
  },
  {
   "cell_type": "code",
   "execution_count": 8,
   "id": "686e5f86-87bb-44ed-9a08-554be4515211",
   "metadata": {},
   "outputs": [],
   "source": [
    "def hash_password(password):\n",
    "    # Hash the new password using SHA-1\n",
    "    hashed_password = hashlib.sha1(password.encode()).hexdigest()\n",
    "    \n",
    "    # Check if the password already exists in the top-10000-passwords.txt file\n",
    "    with open(\"top-10000-passwords.txt\", \"r\") as f:\n",
    "        existing_passwords = f.read().splitlines()\n",
    "    \n",
    "    if password in existing_passwords:\n",
    "        # If the password already exists, inform the user\n",
    "        print(f\"The password '{password}' already exists in the database.\")\n",
    "        print(f\"Hashed password: {hashed_password}\")\n",
    "    else:\n",
    "        # Append the new password to the top-10000-passwords.txt file\n",
    "        with open(\"top-10000-passwords.txt\", \"a\") as f:\n",
    "            f.write(password + \"\\n\")\n",
    "        \n",
    "        # Inform the user of the new hashed password\n",
    "        print(f\"Your password '{password}' has been hashed: {hashed_password}\")"
   ]
  },
  {
   "cell_type": "markdown",
   "id": "70ecc976-faff-4420-be2b-b2dad702bfc9",
   "metadata": {},
   "source": [
    "### Main Function to Hash or Crack Passwords\n",
    "\n",
    "In this section, we define the `main` function, which serves as the entry point for the user interaction. The function performs the following steps:\n",
    "\n",
    "1. **User Choice**: It prompts the user to choose between hashing a password or cracking a hashed password by entering `1` or `2`.\n",
    "2. **Hashing Option**: If the user selects `1`, it asks for the password to hash and calls the `hash_password` function to generate the hashed password.\n",
    "3. **Cracking Option**: If the user selects `2`, it prompts for the hashed password to crack and whether to use salts. The `crack_sha1_hash` function is then called with these inputs to attempt to find the original password.\n",
    "4. **Invalid Input Handling**: If the user inputs anything other than `1` or `2`, it informs them of the invalid choice.\n",
    "\n",
    "This function enables the user to easily interact with the password hashing and cracking functionality of the program."
   ]
  },
  {
   "cell_type": "code",
   "execution_count": null,
   "id": "160e77a7-8774-4468-9037-e2d9424ed70a",
   "metadata": {},
   "outputs": [],
   "source": [
    "def main():\n",
    "    # Ask the user if they want to hash or crack a password\n",
    "    choice = input(\"Would you like to (1) hash a password or (2) crack a password? Enter 1 or 2: \")\n",
    "    \n",
    "    if choice == '1':\n",
    "        # Hash a password\n",
    "        password = input(\"Please enter your password to hash: \")\n",
    "        hash_password(password)\n",
    "    \n",
    "    elif choice == '2':\n",
    "        # Crack a password\n",
    "        hashed_password = input(\"Please enter the hashed password you want to crack: \")\n",
    "        use_salts = input(\"Do you want to use salts? (yes/no): \").strip().lower() == 'yes'\n",
    "        result = crack_sha1_hash(hashed_password, use_salts)\n",
    "        print(f\"Cracked password: {result}\")\n",
    "    \n",
    "    else:\n",
    "        print(\"Invalid choice. Please enter 1 or 2.\")\n",
    "\n",
    "# Run the main function\n",
    "if __name__ == \"__main__\":\n",
    "    main()\n"
   ]
  }
 ],
 "metadata": {
  "kernelspec": {
   "display_name": "Python 3 (ipykernel)",
   "language": "python",
   "name": "python3"
  },
  "language_info": {
   "codemirror_mode": {
    "name": "ipython",
    "version": 3
   },
   "file_extension": ".py",
   "mimetype": "text/x-python",
   "name": "python",
   "nbconvert_exporter": "python",
   "pygments_lexer": "ipython3",
   "version": "3.12.4"
  }
 },
 "nbformat": 4,
 "nbformat_minor": 5
}
